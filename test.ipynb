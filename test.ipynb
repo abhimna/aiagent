{
 "cells": [
  {
   "cell_type": "markdown",
   "id": "38e25da1-ab0e-46a2-b842-94a6aab0e46b",
   "metadata": {},
   "source": [
    "pip3 install jupyter"
   ]
  },
  {
   "cell_type": "code",
   "execution_count": 2,
   "id": "d851b18e-eeb1-4053-a030-a651008031e1",
   "metadata": {},
   "outputs": [
    {
     "ename": "SyntaxError",
     "evalue": "invalid syntax (2041278679.py, line 1)",
     "output_type": "error",
     "traceback": [
      "\u001b[0;36m  Cell \u001b[0;32mIn[2], line 1\u001b[0;36m\u001b[0m\n\u001b[0;31m    pip3 install jupyter;\u001b[0m\n\u001b[0m         ^\u001b[0m\n\u001b[0;31mSyntaxError\u001b[0m\u001b[0;31m:\u001b[0m invalid syntax\n"
     ]
    }
   ],
   "source": [
    "pip3 install jupyter;"
   ]
  },
  {
   "cell_type": "code",
   "execution_count": 3,
   "id": "37a7a648-3714-400e-bdc3-f2b565af0496",
   "metadata": {},
   "outputs": [
    {
     "ename": "SyntaxError",
     "evalue": "invalid syntax (240865220.py, line 1)",
     "output_type": "error",
     "traceback": [
      "\u001b[0;36m  Cell \u001b[0;32mIn[3], line 1\u001b[0;36m\u001b[0m\n\u001b[0;31m    python3 -m pip install jupyter\u001b[0m\n\u001b[0m               ^\u001b[0m\n\u001b[0;31mSyntaxError\u001b[0m\u001b[0;31m:\u001b[0m invalid syntax\n"
     ]
    }
   ],
   "source": [
    "python3 -m pip install jupyter"
   ]
  },
  {
   "cell_type": "code",
   "execution_count": 4,
   "id": "9a40ff0f-5fe6-41e5-9b4e-75cf2da5b3cf",
   "metadata": {},
   "outputs": [
    {
     "ename": "SyntaxError",
     "evalue": "invalid syntax (917308279.py, line 1)",
     "output_type": "error",
     "traceback": [
      "\u001b[0;36m  Cell \u001b[0;32mIn[4], line 1\u001b[0;36m\u001b[0m\n\u001b[0;31m    python3 -m pip3 install jupyter\u001b[0m\n\u001b[0m               ^\u001b[0m\n\u001b[0;31mSyntaxError\u001b[0m\u001b[0;31m:\u001b[0m invalid syntax\n"
     ]
    }
   ],
   "source": [
    "python3 -m pip3 install jupyter"
   ]
  },
  {
   "cell_type": "code",
   "execution_count": 5,
   "id": "eb9a14e3-51de-459c-b756-f4e6b35bf91f",
   "metadata": {},
   "outputs": [
    {
     "ename": "NameError",
     "evalue": "name 'openai' is not defined",
     "output_type": "error",
     "traceback": [
      "\u001b[0;31m---------------------------------------------------------------------------\u001b[0m",
      "\u001b[0;31mNameError\u001b[0m                                 Traceback (most recent call last)",
      "Cell \u001b[0;32mIn[5], line 1\u001b[0m\n\u001b[0;32m----> 1\u001b[0m \u001b[43mopenai\u001b[49m\u001b[38;5;241m.\u001b[39mapi_key \u001b[38;5;241m=\u001b[39m \u001b[38;5;124m\"\u001b[39m\u001b[38;5;124mYOUR_API_KEY_HERE\u001b[39m\u001b[38;5;124m\"\u001b[39m\n",
      "\u001b[0;31mNameError\u001b[0m: name 'openai' is not defined"
     ]
    }
   ],
   "source": [
    "openai.api_key = \"YOUR_API_KEY_HERE\""
   ]
  },
  {
   "cell_type": "code",
   "execution_count": 6,
   "id": "4e1a8155-b6a5-42cc-9ead-f419dbe68b9d",
   "metadata": {},
   "outputs": [],
   "source": [
    "import openai"
   ]
  },
  {
   "cell_type": "code",
   "execution_count": 19,
   "id": "293429f1-c018-46ed-a17c-1f381a277b2d",
   "metadata": {},
   "outputs": [
    {
     "name": "stdout",
     "output_type": "stream",
     "text": [
      "Kafka is a messaging service. I have used it in my last project as a consumer, producer, and even schema registry was there. So we had this event-driven program. We used to write from one place and retrieve in another place. Now there's an error from here, from the consumer side. Then we used to go back and through exceptions. And then what that used to do was, it used to trigger re-consumption of the messages. And then it used to happen one or two times, three times, and then we used to push it to the dead letter queue. So that's how it used to work. Thank you.\n",
      "\n"
     ]
    }
   ],
   "source": [
    "from openai import OpenAI\n",
    "\n",
    "# Ensure you have the correct API key setup\n",
    "client = OpenAI(api_key= \"HELLO_KEY\")\n",
    "\n",
    "# Open the audio file in binary mode\n",
    "audio_file = open(\"/Users/abhisheksingh/dev/Kadugodi 2.m4a\", \"rb\")\n",
    "\n",
    "# Create the transcription\n",
    "transcription = client.audio.transcriptions.create(\n",
    "    model=\"whisper-1\",  # Use whisper-1 for Whisper model\n",
    "    file=audio_file,\n",
    "    response_format=\"text\"\n",
    ")\n",
    "\n",
    "# Print the transcribed text\n",
    "print(transcription)\n"
   ]
  },
  {
   "cell_type": "code",
   "execution_count": 20,
   "id": "5c50d80b-8422-43e9-820e-20205ab99588",
   "metadata": {},
   "outputs": [],
   "source": [
    "speech_response = client.audio.speech.create(\n",
    "    model=\"tts-1\",  # Or \"tts-1-hd\" for higher quality\n",
    "    voice=\"alloy\",  # Options: alloy, echo, fable, onyx, nova, shimmer\n",
    "    input=transcription\n",
    ")"
   ]
  },
  {
   "cell_type": "code",
   "execution_count": 21,
   "id": "4496b86d-4f87-4137-924d-86b81f14665c",
   "metadata": {},
   "outputs": [
    {
     "name": "stderr",
     "output_type": "stream",
     "text": [
      "/var/folders/4_/979ll4_j21v9f8054nl62w5c0000gn/T/ipykernel_1363/2662341140.py:1: DeprecationWarning: Due to a bug, this method doesn't actually stream the response content, `.with_streaming_response.method()` should be used instead\n",
      "  speech_response.stream_to_file(\"/Users/abhisheksingh/dev/output_audio.mp3\")\n"
     ]
    }
   ],
   "source": [
    "speech_response.stream_to_file(\"/Users/abhisheksingh/dev/output_audio.mp3\")"
   ]
  },
  {
   "cell_type": "code",
   "execution_count": null,
   "id": "9da20aa5-cd4f-434c-b99a-c640ff8465bc",
   "metadata": {},
   "outputs": [],
   "source": []
  }
 ],
 "metadata": {
  "kernelspec": {
   "display_name": "Python 3 (ipykernel)",
   "language": "python",
   "name": "python3"
  },
  "language_info": {
   "codemirror_mode": {
    "name": "ipython",
    "version": 3
   },
   "file_extension": ".py",
   "mimetype": "text/x-python",
   "name": "python",
   "nbconvert_exporter": "python",
   "pygments_lexer": "ipython3",
   "version": "3.9.6"
  }
 },
 "nbformat": 4,
 "nbformat_minor": 5
}
